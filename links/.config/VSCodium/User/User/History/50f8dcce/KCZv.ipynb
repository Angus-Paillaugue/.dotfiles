{
 "cells": [
  {
   "cell_type": "code",
   "execution_count": 1,
   "id": "5b045538-234b-4ebe-a4cf-6009405808ae",
   "metadata": {},
   "outputs": [],
   "source": [
    "import numpy as np\n",
    "import sympy as sy"
   ]
  },
  {
   "cell_type": "code",
   "execution_count": 2,
   "id": "8c88401d-0a5c-4afd-aa61-c940255cbb1c",
   "metadata": {},
   "outputs": [],
   "source": [
    "M1 = np.array([[0.2,0.2,0.6],\n",
    "               [0.5,0.1,0.4],\n",
    "               [0.3,0.7,0.0]\n",
    "              ])\n",
    "M2 = np.array([[0.2,0.2,0.6,0.0,0.0,0.0,0.0,0.0],\n",
    "               [0.5,0.1,0.4,0.0,0.0,0.0,0.0,0.0],\n",
    "               [0.3,0.7,0.0,0.0,0.0,0.0,0.0,0.0],\n",
    "               [0.0,0.0,0.0,0.5,0.5,0.0,0.0,0.0],\n",
    "               [0.0,0.0,0.0,0.3,0.7,0.0,0.0,0.0],\n",
    "               [0.0,0.0,0.0,0.0,0.0,0.2,0.7,0.1],\n",
    "               [0.0,0.0,0.0,0.0,0.0,0.4,0.0,0.6],\n",
    "               [0.0,0.0,0.0,0.0,0.0,0.5,0.2,0.3]\n",
    "              ])\n",
    "mu_0 = np.array([[1],[0],[0],[0],[0],[0],[0],[0]])"
   ]
  },
  {
   "cell_type": "code",
   "execution_count": 3,
   "id": "ccc02c01-2703-44f7-bc61-4f8483e3d00e",
   "metadata": {},
   "outputs": [],
   "source": [
    "def gauss_jordan_exact(A):\n",
    "    # Simplification exacte des éléments de la matrice A\n",
    "    A = np.array([[sy.nsimplify(A[i, j]) for j in range(len(A[i]))] for i in range(len(A))])\n",
    "\n",
    "    # Boucle principale pour effectuer l'algorithme de Gauss-Jordan\n",
    "    for i in range(len(A)):\n",
    "        # Échange de lignes si l'élément diagonal est nul\n",
    "        if A[i, i] == 0:\n",
    "            # Chercher une ligne non nulle en dessous\n",
    "            j = i + 1\n",
    "            # Si une ligne non nulle est trouvée en dessous\n",
    "            while (j < len(A)) and (A[j, i] == 0):\n",
    "                j += 1\n",
    "                 # Ajouter la ligne trouvée à la ligne actuelle pour éviter le 0 sur la diagonale            if j < len(A):\n",
    "                A[i, :] = A[i, :] + A[j, :]\n",
    "            else:\n",
    "                continue\n",
    "\n",
    "        # Normalisation de la ligne pour que l'élément diagonal soit égal à 1\n",
    "        c = A[i, i]\n",
    "        A[i, :] = A[i, :] / c\n",
    "\n",
    "        # Élimination des autres éléments dans la colonne\n",
    "        for j in range(len(A)):\n",
    "            if j != i:\n",
    "                c = -A[j, i] / A[i, i] # le coef qui annule le coeff de la ligne j dans la colonne i\n",
    "                A[j, :] = A[j, :] + c * A[i, :] # On ajoute a la ligne j la ligne i * par le coeff\n",
    "\n",
    "    # Retourne la matrice résultante après l'algorithme de Gauss-Jordan\n",
    "    return A\n",
    "\n",
    "\n",
    "def mesure_in_list(mu,l,ecart=0.01):\n",
    "    \"\"\"Détermine si une mesure appartient à un liste avec une tolérance de écart.\"\"\"\n",
    "    dedans = False\n",
    "    for j in range(len(l)):\n",
    "        dedans = dedans | np.isclose(l[j],mu,atol=ecart).all()\n",
    "    return dedans"
   ]
  },
  {
   "cell_type": "code",
   "execution_count": null,
   "id": "6d759388-5dd9-485c-8b2a-9c8a0b74b039",
   "metadata": {},
   "outputs": [],
   "source": []
  },
  {
   "cell_type": "markdown",
   "id": "aa544037-ffdb-4a40-be05-e4a940e173eb",
   "metadata": {},
   "source": [
    "# Exercice 1"
   ]
  },
  {
   "cell_type": "code",
   "execution_count": 4,
   "id": "fa5ff80a-d96c-4002-9de1-b2869844f4e4",
   "metadata": {},
   "outputs": [],
   "source": [
    "def is_stochastique(M):\n",
    "    return (M.shape[0] == M.shape[1]) and ((M <= 1).all()) and ((M.sum(axis=1) == 1).all())"
   ]
  },
  {
   "cell_type": "code",
   "execution_count": 5,
   "id": "b9903ccc-447a-47fc-b104-763ea33e96b9",
   "metadata": {},
   "outputs": [
    {
     "data": {
      "text/plain": [
       "np.True_"
      ]
     },
     "execution_count": 5,
     "metadata": {},
     "output_type": "execute_result"
    }
   ],
   "source": [
    "is_stochastique(M2)"
   ]
  },
  {
   "cell_type": "code",
   "execution_count": 6,
   "id": "74ab3f73-b37d-48b0-a7a8-0b8189411ca2",
   "metadata": {},
   "outputs": [
    {
     "data": {
      "text/plain": [
       "np.True_"
      ]
     },
     "execution_count": 6,
     "metadata": {},
     "output_type": "execute_result"
    }
   ],
   "source": [
    "is_stochastique(M1)"
   ]
  },
  {
   "cell_type": "code",
   "execution_count": null,
   "id": "f674ab78",
   "metadata": {},
   "outputs": [],
   "source": []
  },
  {
   "cell_type": "markdown",
   "id": "4a37a5be-5faa-4309-81a0-a2c93da1b7b1",
   "metadata": {},
   "source": [
    "# Exercice 2"
   ]
  },
  {
   "cell_type": "code",
   "execution_count": 7,
   "id": "5310a3ab-a35a-40c2-ba94-7031d0ed2ae5",
   "metadata": {},
   "outputs": [],
   "source": [
    "def mesure_asymptotique_emp(P, mu):\n",
    "    # Transposer la matrice P\n",
    "    P = P.T\n",
    "\n",
    "    # Calculer le produit matriciel P * mu\n",
    "    mu_temp = P.dot(mu)\n",
    "\n",
    "    # Répéter le processus jusqu'à ce que mu soit suffisamment proche de mu_temp\n",
    "    while not np.isclose(mu, mu_temp, atol=10**(-3)).all():\n",
    "        # Copier mu_temp dans mu\n",
    "        mu = mu_temp.copy()\n",
    "\n",
    "        # Mettre à jour mu_temp avec le nouveau produit matriciel P * mu\n",
    "        mu_temp = P.dot(mu)\n",
    "\n",
    "    # Retourner mu arrondi à trois décimales\n",
    "    return np.round(mu, 3)\n"
   ]
  },
  {
   "cell_type": "code",
   "execution_count": 8,
   "id": "f8fedb51-c86f-44ae-bf0d-c4093c6f2383",
   "metadata": {},
   "outputs": [
    {
     "data": {
      "text/plain": [
       "array([[0.333],\n",
       "       [0.333],\n",
       "       [0.334],\n",
       "       [0.   ],\n",
       "       [0.   ],\n",
       "       [0.   ],\n",
       "       [0.   ],\n",
       "       [0.   ]])"
      ]
     },
     "execution_count": 8,
     "metadata": {},
     "output_type": "execute_result"
    }
   ],
   "source": [
    "mesure_asymptotique_emp(M2,mu_0)"
   ]
  },
  {
   "cell_type": "code",
   "execution_count": null,
   "id": "812a5641-f8d0-41fd-93b3-0b587e6da3d1",
   "metadata": {},
   "outputs": [],
   "source": []
  },
  {
   "cell_type": "markdown",
   "id": "427efc26-659a-4dbc-8d2a-b53185a3482c",
   "metadata": {},
   "source": [
    "# Exercice 3"
   ]
  },
  {
   "cell_type": "code",
   "execution_count": 9,
   "id": "d888611e-e367-4d28-9dbe-8b6999f1ceca",
   "metadata": {},
   "outputs": [],
   "source": [
    "def mesures_invariantes_emp(P):\n",
    "    \"\"\"\n",
    "    Détermine l'ensemble des mesures asymptotiques d'une chaîne\n",
    "    de Markov pour toutes les mesures de la forme (0 ... 0 1 0 ... 0)\n",
    "    c'est-à-dire un 1 et des 0.\n",
    "    \"\"\"\n",
    "    # Liste pour stocker les mesures asymptotiques\n",
    "    l_inv = []\n",
    "\n",
    "    # Parcours de toutes les lignes de la matrice P\n",
    "    for i in range(len(P)):\n",
    "        # Initialisation d'un vecteur mu avec un 1 à la position i et des 0 ailleurs\n",
    "        mu = np.zeros((len(P), 1))\n",
    "        mu[i] = 1\n",
    "\n",
    "        # Calcul de la mesure asymptotique empirique pour le vecteur mu\n",
    "        mu = mesure_asymptotique_emp(P, mu)\n",
    "\n",
    "        # Vérification si la mesure mu est déjà dans la liste l_inv avec une tolérance de 0.01\n",
    "        if not mesure_in_list(mu, l_inv, 0.01):\n",
    "            # Ajout de la mesure à la liste l_inv\n",
    "            l_inv.append(mu)\n",
    "\n",
    "    # Retour de l'ensemble des mesures asymptotiques\n",
    "    return l_inv\n"
   ]
  },
  {
   "cell_type": "code",
   "execution_count": 10,
   "id": "cde6767c-2c60-42e6-a572-3abbb3bc9ff1",
   "metadata": {},
   "outputs": [
    {
     "data": {
      "text/plain": [
       "[array([[0.333],\n",
       "        [0.333],\n",
       "        [0.334],\n",
       "        [0.   ],\n",
       "        [0.   ],\n",
       "        [0.   ],\n",
       "        [0.   ],\n",
       "        [0.   ]]),\n",
       " array([[0.   ],\n",
       "        [0.   ],\n",
       "        [0.   ],\n",
       "        [0.376],\n",
       "        [0.624],\n",
       "        [0.   ],\n",
       "        [0.   ],\n",
       "        [0.   ]]),\n",
       " array([[0.   ],\n",
       "        [0.   ],\n",
       "        [0.   ],\n",
       "        [0.   ],\n",
       "        [0.   ],\n",
       "        [0.36 ],\n",
       "        [0.316],\n",
       "        [0.324]])]"
      ]
     },
     "execution_count": 10,
     "metadata": {},
     "output_type": "execute_result"
    }
   ],
   "source": [
    "mesures_invariantes_emp(M2)"
   ]
  },
  {
   "cell_type": "code",
   "execution_count": null,
   "id": "60431acb-3398-4f0e-913f-fc9c29e81662",
   "metadata": {},
   "outputs": [],
   "source": []
  },
  {
   "cell_type": "markdown",
   "id": "d90825a4-f384-4e27-a8b2-0987f81199c6",
   "metadata": {},
   "source": [
    "# Exerice 4"
   ]
  },
  {
   "cell_type": "code",
   "execution_count": 11,
   "id": "6e90cc01-bd93-4f1d-a6d3-ff46d9417349",
   "metadata": {},
   "outputs": [],
   "source": [
    "def mesure_inv_irr(M):\n",
    "    \"\"\"\n",
    "    Calcule une mesure invariante pour une matrice de transition irréductible.\n",
    "    \"\"\"\n",
    "    # Résoudre le système d'équations linéaires en utilisant la méthode de Gauss-Jordan\n",
    "    # np.eye(M.shape[0]): Création d'une matrice identité de même taille que la matrice de transition M. Cela est nécessaire car le système d'équations à résoudre est (M^T - I)x = 0, où M^T est la matrice de transition et I est la matrice identité.\n",
    "    # [:, -1]: Sélection de la dernière colonne de la matrice résultante après l'application de l'algorithme de Gauss-Jordan. Cette colonne contient les solutions du système d'équations linéaires.\n",
    "    # -: Les solutions sont multipliées par -1. Cela est probablement nécessaire en fonction du côté gauche du système d'équations (M^T - I)x = 0, où le terme de droite est généralement négatif.\n",
    "    sol = - gauss_jordan_exact(M.T - np.eye(M.shape[0]))[:, -1]\n",
    "\n",
    "    # Ajuster la dernière composante pour garantir que la somme soit égale à 1\n",
    "    sol[-1] = 1\n",
    "\n",
    "    # Normaliser le vecteur pour qu'il représente une mesure de probabilité valide\n",
    "    sol = sol / sol.sum()\n",
    "\n",
    "    # Retourner la mesure invariante\n",
    "    return sol\n"
   ]
  },
  {
   "cell_type": "code",
   "execution_count": 12,
   "id": "bd808ac7-af1e-484b-9f9b-13b1926c9c26",
   "metadata": {},
   "outputs": [
    {
     "data": {
      "text/plain": [
       "array([1/3, 1/3, 1/3], dtype=object)"
      ]
     },
     "execution_count": 12,
     "metadata": {},
     "output_type": "execute_result"
    }
   ],
   "source": [
    "mesure_inv_irr(M1)"
   ]
  },
  {
   "cell_type": "code",
   "execution_count": 13,
   "id": "c8db989f-cbd7-4bb1-a187-b6d91f993efc",
   "metadata": {},
   "outputs": [
    {
     "data": {
      "text/plain": [
       "[array([[0.333],\n",
       "        [0.333],\n",
       "        [0.334]])]"
      ]
     },
     "execution_count": 13,
     "metadata": {},
     "output_type": "execute_result"
    }
   ],
   "source": [
    "mesures_invariantes_emp(M1)"
   ]
  },
  {
   "cell_type": "code",
   "execution_count": null,
   "id": "21d13e21-dfa8-4cda-a2ab-f4c0f08aac82",
   "metadata": {},
   "outputs": [],
   "source": []
  },
  {
   "cell_type": "markdown",
   "id": "8fee7cbc-f38f-42f7-85a8-2431894cee60",
   "metadata": {},
   "source": [
    "# Exercice 5"
   ]
  },
  {
   "cell_type": "code",
   "execution_count": 14,
   "id": "72710807-a768-48ed-b0ac-176f6a4385c4",
   "metadata": {},
   "outputs": [],
   "source": [
    "def mesures_invariantes(M):\n",
    "    # Initialisation de la liste pour stocker les mesures invariantes\n",
    "    l = []\n",
    "\n",
    "    # Résolution du système d'équations linéaires avec l'algorithme de Gauss-Jordan\n",
    "    sol = gauss_jordan_exact(M.T - np.eye(M.shape[0]))\n",
    "\n",
    "    # Boucle pour parcourir chaque ligne de la matrice\n",
    "    for i in range(len(M)):\n",
    "        # Vérification si l'élément diagonal de la solution est nul\n",
    "        if sol[i, i] == 0:\n",
    "            # Construction du vecteur mu correspondant à la mesure invariante\n",
    "            mu = -sol[:, i].copy()\n",
    "            mu[i] = 1\n",
    "            mu = mu / mu.sum()\n",
    "\n",
    "            # Ajout du vecteur mu à la liste des mesures invariantes\n",
    "            l.append(mu)\n",
    "\n",
    "    # Retour de la liste des mesures invariantes\n",
    "    return l\n"
   ]
  },
  {
   "cell_type": "code",
   "execution_count": 15,
   "id": "dcc83fd5-984b-4cf9-a496-8050b97e1ea7",
   "metadata": {},
   "outputs": [
    {
     "data": {
      "text/plain": [
       "[array([1/3, 1/3, 1/3], dtype=object)]"
      ]
     },
     "execution_count": 15,
     "metadata": {},
     "output_type": "execute_result"
    }
   ],
   "source": [
    "mesures_invariantes(M1)"
   ]
  },
  {
   "cell_type": "code",
   "execution_count": 16,
   "id": "6c363a43-ac89-4206-8d61-853c6bcd211a",
   "metadata": {},
   "outputs": [
    {
     "data": {
      "text/plain": [
       "[array([[0.333],\n",
       "        [0.333],\n",
       "        [0.334]])]"
      ]
     },
     "execution_count": 16,
     "metadata": {},
     "output_type": "execute_result"
    }
   ],
   "source": [
    "mesures_invariantes_emp(M1)"
   ]
  },
  {
   "cell_type": "code",
   "execution_count": 17,
   "id": "d3bdd8bc-5404-429d-9252-b74ec9cbc0cb",
   "metadata": {},
   "outputs": [
    {
     "ename": "IndexError",
     "evalue": "index 8 is out of bounds for axis 0 with size 8",
     "output_type": "error",
     "traceback": [
      "\u001b[0;31m---------------------------------------------------------------------------\u001b[0m",
      "\u001b[0;31mIndexError\u001b[0m                                Traceback (most recent call last)",
      "Cell \u001b[0;32mIn[17], line 1\u001b[0m\n\u001b[0;32m----> 1\u001b[0m \u001b[43mmesures_invariantes\u001b[49m\u001b[43m(\u001b[49m\u001b[43mM2\u001b[49m\u001b[43m)\u001b[49m\n",
      "Cell \u001b[0;32mIn[14], line 6\u001b[0m, in \u001b[0;36mmesures_invariantes\u001b[0;34m(M)\u001b[0m\n\u001b[1;32m      3\u001b[0m l \u001b[38;5;241m=\u001b[39m []\n\u001b[1;32m      5\u001b[0m \u001b[38;5;66;03m# Résolution du système d'équations linéaires avec l'algorithme de Gauss-Jordan\u001b[39;00m\n\u001b[0;32m----> 6\u001b[0m sol \u001b[38;5;241m=\u001b[39m \u001b[43mgauss_jordan_exact\u001b[49m\u001b[43m(\u001b[49m\u001b[43mM\u001b[49m\u001b[38;5;241;43m.\u001b[39;49m\u001b[43mT\u001b[49m\u001b[43m \u001b[49m\u001b[38;5;241;43m-\u001b[39;49m\u001b[43m \u001b[49m\u001b[43mnp\u001b[49m\u001b[38;5;241;43m.\u001b[39;49m\u001b[43meye\u001b[49m\u001b[43m(\u001b[49m\u001b[43mM\u001b[49m\u001b[38;5;241;43m.\u001b[39;49m\u001b[43mshape\u001b[49m\u001b[43m[\u001b[49m\u001b[38;5;241;43m0\u001b[39;49m\u001b[43m]\u001b[49m\u001b[43m)\u001b[49m\u001b[43m)\u001b[49m\n\u001b[1;32m      8\u001b[0m \u001b[38;5;66;03m# Boucle pour parcourir chaque ligne de la matrice\u001b[39;00m\n\u001b[1;32m      9\u001b[0m \u001b[38;5;28;01mfor\u001b[39;00m i \u001b[38;5;129;01min\u001b[39;00m \u001b[38;5;28mrange\u001b[39m(\u001b[38;5;28mlen\u001b[39m(M)):\n\u001b[1;32m     10\u001b[0m     \u001b[38;5;66;03m# Vérification si l'élément diagonal de la solution est nul\u001b[39;00m\n",
      "Cell \u001b[0;32mIn[3], line 15\u001b[0m, in \u001b[0;36mgauss_jordan_exact\u001b[0;34m(A)\u001b[0m\n\u001b[1;32m     13\u001b[0m     j \u001b[38;5;241m+\u001b[39m\u001b[38;5;241m=\u001b[39m \u001b[38;5;241m1\u001b[39m\n\u001b[1;32m     14\u001b[0m      \u001b[38;5;66;03m# Ajouter la ligne trouvée à la ligne actuelle pour éviter le 0 sur la diagonale            if j < len(A):\u001b[39;00m\n\u001b[0;32m---> 15\u001b[0m     A[i, :] \u001b[38;5;241m=\u001b[39m A[i, :] \u001b[38;5;241m+\u001b[39m \u001b[43mA\u001b[49m\u001b[43m[\u001b[49m\u001b[43mj\u001b[49m\u001b[43m,\u001b[49m\u001b[43m \u001b[49m\u001b[43m:\u001b[49m\u001b[43m]\u001b[49m\n\u001b[1;32m     16\u001b[0m \u001b[38;5;28;01melse\u001b[39;00m:\n\u001b[1;32m     17\u001b[0m     \u001b[38;5;28;01mcontinue\u001b[39;00m\n",
      "\u001b[0;31mIndexError\u001b[0m: index 8 is out of bounds for axis 0 with size 8"
     ]
    }
   ],
   "source": [
    "mesures_invariantes(M2)"
   ]
  },
  {
   "cell_type": "code",
   "execution_count": 20,
   "id": "adf97934-00c3-4069-9473-70089d98a8b3",
   "metadata": {},
   "outputs": [
    {
     "data": {
      "text/plain": [
       "[array([[0.333],\n",
       "        [0.333],\n",
       "        [0.334],\n",
       "        [0.   ],\n",
       "        [0.   ],\n",
       "        [0.   ],\n",
       "        [0.   ],\n",
       "        [0.   ]]),\n",
       " array([[0.   ],\n",
       "        [0.   ],\n",
       "        [0.   ],\n",
       "        [0.376],\n",
       "        [0.624],\n",
       "        [0.   ],\n",
       "        [0.   ],\n",
       "        [0.   ]]),\n",
       " array([[0.   ],\n",
       "        [0.   ],\n",
       "        [0.   ],\n",
       "        [0.   ],\n",
       "        [0.   ],\n",
       "        [0.36 ],\n",
       "        [0.316],\n",
       "        [0.324]])]"
      ]
     },
     "execution_count": 20,
     "metadata": {},
     "output_type": "execute_result"
    }
   ],
   "source": [
    "mesures_invariantes_emp(M2)"
   ]
  },
  {
   "cell_type": "code",
   "execution_count": null,
   "id": "b8881981-1309-4504-b110-a34deb2adc4b",
   "metadata": {},
   "outputs": [],
   "source": []
  }
 ],
 "metadata": {
  "kernelspec": {
   "display_name": "venv",
   "language": "python",
   "name": "python3"
  },
  "language_info": {
   "codemirror_mode": {
    "name": "ipython",
    "version": 3
   },
   "file_extension": ".py",
   "mimetype": "text/x-python",
   "name": "python",
   "nbconvert_exporter": "python",
   "pygments_lexer": "ipython3",
   "version": "3.12.3"
  }
 },
 "nbformat": 4,
 "nbformat_minor": 5
}

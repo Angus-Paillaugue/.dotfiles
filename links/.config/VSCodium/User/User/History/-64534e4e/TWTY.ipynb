{
 "cells": [
  {
   "cell_type": "code",
   "execution_count": null,
   "metadata": {},
   "outputs": [],
   "source": [
    "######################\n",
    "# Imports de modules #\n",
    "######################\n",
    "\n",
    "import numpy as np\n",
    "import sympy as sy\n",
    "import warnings\n",
    "\n",
    "warnings.filterwarnings(\"error\")"
   ]
  }
 ],
 "metadata": {
  "kernelspec": {
   "display_name": "venv",
   "language": "python",
   "name": "python3"
  },
  "language_info": {
   "name": "python",
   "version": "3.12.3"
  }
 },
 "nbformat": 4,
 "nbformat_minor": 2
}
